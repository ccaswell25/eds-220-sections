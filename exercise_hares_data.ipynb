{
 "cells": [
  {
   "cell_type": "markdown",
   "id": "c4937b7e-ba2f-453d-a427-ca4cef468d14",
   "metadata": {},
   "source": [
    "# Lab \n",
    "In your notebook: use a markdown cell to add a brief description of the dataset, including a citation, date of access, and a link to the archive.\n",
    "\n",
    "\n",
    "**Description of the Data:** Snowshoe hare physical data in Bonanza Creek Experimental Forest: 1999-Present\n",
    "**Citation:** Kielland, K., F.S. Chapin, R.W. Ruess, and Bonanza Creek LTER. 2017. Snowshoe hare physical data in Bonanza Creek Experimental Forest: 1999-Present ver 22. Environmental Data Initiative. https://doi.org/10.6073/pasta/03dce4856d79b91557d8e6ce2cbcdc14 (Accessed 2023-10-19).\n",
    "**Date of Access:** 10-19-2023\n",
    "**Link to Archive:** https://portal.edirepository.org/nis/mapbrowse?packageid=knb-lter-bnz.55.22 \n",
    "\n",
    "![Snowshoe Hare](https://upload.wikimedia.org/wikipedia/commons/thumb/4/47/Snowshoe_Hare_%286990917710%29.jpg/640px-Snowshoe_Hare_%286990917710%29.jpg)"
   ]
  },
  {
   "cell_type": "code",
   "execution_count": 6,
   "id": "d361c789-045b-42a0-acea-cd2f7336bfae",
   "metadata": {
    "tags": []
   },
   "outputs": [
    {
     "data": {
      "text/html": [
       "<div>\n",
       "<style scoped>\n",
       "    .dataframe tbody tr th:only-of-type {\n",
       "        vertical-align: middle;\n",
       "    }\n",
       "\n",
       "    .dataframe tbody tr th {\n",
       "        vertical-align: top;\n",
       "    }\n",
       "\n",
       "    .dataframe thead th {\n",
       "        text-align: right;\n",
       "    }\n",
       "</style>\n",
       "<table border=\"1\" class=\"dataframe\">\n",
       "  <thead>\n",
       "    <tr style=\"text-align: right;\">\n",
       "      <th></th>\n",
       "      <th>date</th>\n",
       "      <th>time</th>\n",
       "      <th>grid</th>\n",
       "      <th>trap</th>\n",
       "      <th>l_ear</th>\n",
       "      <th>r_ear</th>\n",
       "      <th>sex</th>\n",
       "      <th>age</th>\n",
       "      <th>weight</th>\n",
       "      <th>hindft</th>\n",
       "      <th>notes</th>\n",
       "      <th>b_key</th>\n",
       "      <th>session_id</th>\n",
       "      <th>study</th>\n",
       "    </tr>\n",
       "  </thead>\n",
       "  <tbody>\n",
       "    <tr>\n",
       "      <th>0</th>\n",
       "      <td>11/26/1998</td>\n",
       "      <td>NaN</td>\n",
       "      <td>bonrip</td>\n",
       "      <td>1A</td>\n",
       "      <td>414D096A08</td>\n",
       "      <td>NaN</td>\n",
       "      <td>NaN</td>\n",
       "      <td>NaN</td>\n",
       "      <td>1370.0</td>\n",
       "      <td>160.0</td>\n",
       "      <td>NaN</td>\n",
       "      <td>917.0</td>\n",
       "      <td>51</td>\n",
       "      <td>Population</td>\n",
       "    </tr>\n",
       "    <tr>\n",
       "      <th>1</th>\n",
       "      <td>11/26/1998</td>\n",
       "      <td>NaN</td>\n",
       "      <td>bonrip</td>\n",
       "      <td>2C</td>\n",
       "      <td>414D320671</td>\n",
       "      <td>NaN</td>\n",
       "      <td>M</td>\n",
       "      <td>NaN</td>\n",
       "      <td>1430.0</td>\n",
       "      <td>NaN</td>\n",
       "      <td>NaN</td>\n",
       "      <td>936.0</td>\n",
       "      <td>51</td>\n",
       "      <td>Population</td>\n",
       "    </tr>\n",
       "    <tr>\n",
       "      <th>2</th>\n",
       "      <td>11/26/1998</td>\n",
       "      <td>NaN</td>\n",
       "      <td>bonrip</td>\n",
       "      <td>2D</td>\n",
       "      <td>414D103E3A</td>\n",
       "      <td>NaN</td>\n",
       "      <td>M</td>\n",
       "      <td>NaN</td>\n",
       "      <td>1430.0</td>\n",
       "      <td>NaN</td>\n",
       "      <td>NaN</td>\n",
       "      <td>921.0</td>\n",
       "      <td>51</td>\n",
       "      <td>Population</td>\n",
       "    </tr>\n",
       "    <tr>\n",
       "      <th>3</th>\n",
       "      <td>11/26/1998</td>\n",
       "      <td>NaN</td>\n",
       "      <td>bonrip</td>\n",
       "      <td>2E</td>\n",
       "      <td>414D262D43</td>\n",
       "      <td>NaN</td>\n",
       "      <td>NaN</td>\n",
       "      <td>NaN</td>\n",
       "      <td>1490.0</td>\n",
       "      <td>135.0</td>\n",
       "      <td>NaN</td>\n",
       "      <td>931.0</td>\n",
       "      <td>51</td>\n",
       "      <td>Population</td>\n",
       "    </tr>\n",
       "    <tr>\n",
       "      <th>4</th>\n",
       "      <td>11/26/1998</td>\n",
       "      <td>NaN</td>\n",
       "      <td>bonrip</td>\n",
       "      <td>3B</td>\n",
       "      <td>414D2B4B58</td>\n",
       "      <td>NaN</td>\n",
       "      <td>NaN</td>\n",
       "      <td>NaN</td>\n",
       "      <td>1710.0</td>\n",
       "      <td>150.0</td>\n",
       "      <td>NaN</td>\n",
       "      <td>933.0</td>\n",
       "      <td>51</td>\n",
       "      <td>Population</td>\n",
       "    </tr>\n",
       "    <tr>\n",
       "      <th>...</th>\n",
       "      <td>...</td>\n",
       "      <td>...</td>\n",
       "      <td>...</td>\n",
       "      <td>...</td>\n",
       "      <td>...</td>\n",
       "      <td>...</td>\n",
       "      <td>...</td>\n",
       "      <td>...</td>\n",
       "      <td>...</td>\n",
       "      <td>...</td>\n",
       "      <td>...</td>\n",
       "      <td>...</td>\n",
       "      <td>...</td>\n",
       "      <td>...</td>\n",
       "    </tr>\n",
       "    <tr>\n",
       "      <th>3375</th>\n",
       "      <td>8/8/2002</td>\n",
       "      <td>18:00:00</td>\n",
       "      <td>bonrip</td>\n",
       "      <td>1b</td>\n",
       "      <td>1201</td>\n",
       "      <td>1202</td>\n",
       "      <td>NaN</td>\n",
       "      <td>NaN</td>\n",
       "      <td>1400.0</td>\n",
       "      <td>NaN</td>\n",
       "      <td>NaN</td>\n",
       "      <td>63.0</td>\n",
       "      <td>64</td>\n",
       "      <td>Population</td>\n",
       "    </tr>\n",
       "    <tr>\n",
       "      <th>3376</th>\n",
       "      <td>8/8/2002</td>\n",
       "      <td>6:00:00</td>\n",
       "      <td>bonrip</td>\n",
       "      <td>4b</td>\n",
       "      <td>1201</td>\n",
       "      <td>1202</td>\n",
       "      <td>NaN</td>\n",
       "      <td>NaN</td>\n",
       "      <td>NaN</td>\n",
       "      <td>NaN</td>\n",
       "      <td>NaN</td>\n",
       "      <td>63.0</td>\n",
       "      <td>64</td>\n",
       "      <td>Population</td>\n",
       "    </tr>\n",
       "    <tr>\n",
       "      <th>3377</th>\n",
       "      <td>8/7/2002</td>\n",
       "      <td>NaN</td>\n",
       "      <td>bonrip</td>\n",
       "      <td>4b</td>\n",
       "      <td>1217</td>\n",
       "      <td>1218</td>\n",
       "      <td>NaN</td>\n",
       "      <td>NaN</td>\n",
       "      <td>1000.0</td>\n",
       "      <td>134.0</td>\n",
       "      <td>NaN</td>\n",
       "      <td>69.0</td>\n",
       "      <td>64</td>\n",
       "      <td>Population</td>\n",
       "    </tr>\n",
       "    <tr>\n",
       "      <th>3378</th>\n",
       "      <td>8/8/2002</td>\n",
       "      <td>NaN</td>\n",
       "      <td>bonrip</td>\n",
       "      <td>6d</td>\n",
       "      <td>1217</td>\n",
       "      <td>1218</td>\n",
       "      <td>NaN</td>\n",
       "      <td>NaN</td>\n",
       "      <td>990.0</td>\n",
       "      <td>NaN</td>\n",
       "      <td>NaN</td>\n",
       "      <td>69.0</td>\n",
       "      <td>64</td>\n",
       "      <td>Population</td>\n",
       "    </tr>\n",
       "    <tr>\n",
       "      <th>3379</th>\n",
       "      <td>8/6/2002</td>\n",
       "      <td>NaN</td>\n",
       "      <td>bonrip</td>\n",
       "      <td>4b</td>\n",
       "      <td>1058</td>\n",
       "      <td>1060</td>\n",
       "      <td>M</td>\n",
       "      <td>NaN</td>\n",
       "      <td>1460.0</td>\n",
       "      <td>119.0</td>\n",
       "      <td>NaN</td>\n",
       "      <td>32.0</td>\n",
       "      <td>64</td>\n",
       "      <td>Population</td>\n",
       "    </tr>\n",
       "  </tbody>\n",
       "</table>\n",
       "<p>3380 rows × 14 columns</p>\n",
       "</div>"
      ],
      "text/plain": [
       "            date      time    grid trap       l_ear r_ear  sex  age  weight  \\\n",
       "0     11/26/1998       NaN  bonrip   1A  414D096A08   NaN  NaN  NaN  1370.0   \n",
       "1     11/26/1998       NaN  bonrip   2C  414D320671   NaN    M  NaN  1430.0   \n",
       "2     11/26/1998       NaN  bonrip   2D  414D103E3A   NaN    M  NaN  1430.0   \n",
       "3     11/26/1998       NaN  bonrip   2E  414D262D43   NaN  NaN  NaN  1490.0   \n",
       "4     11/26/1998       NaN  bonrip   3B  414D2B4B58   NaN  NaN  NaN  1710.0   \n",
       "...          ...       ...     ...  ...         ...   ...  ...  ...     ...   \n",
       "3375    8/8/2002  18:00:00  bonrip  1b         1201  1202  NaN  NaN  1400.0   \n",
       "3376    8/8/2002   6:00:00  bonrip  4b         1201  1202  NaN  NaN     NaN   \n",
       "3377    8/7/2002       NaN  bonrip   4b        1217  1218  NaN  NaN  1000.0   \n",
       "3378    8/8/2002       NaN  bonrip   6d        1217  1218  NaN  NaN   990.0   \n",
       "3379    8/6/2002       NaN  bonrip   4b        1058  1060    M  NaN  1460.0   \n",
       "\n",
       "      hindft notes  b_key  session_id       study  \n",
       "0      160.0   NaN  917.0          51  Population  \n",
       "1        NaN   NaN  936.0          51  Population  \n",
       "2        NaN   NaN  921.0          51  Population  \n",
       "3      135.0   NaN  931.0          51  Population  \n",
       "4      150.0   NaN  933.0          51  Population  \n",
       "...      ...   ...    ...         ...         ...  \n",
       "3375     NaN   NaN   63.0          64  Population  \n",
       "3376     NaN   NaN   63.0          64  Population  \n",
       "3377   134.0   NaN   69.0          64  Population  \n",
       "3378     NaN   NaN   69.0          64  Population  \n",
       "3379   119.0   NaN   32.0          64  Population  \n",
       "\n",
       "[3380 rows x 14 columns]"
      ]
     },
     "execution_count": 6,
     "metadata": {},
     "output_type": "execute_result"
    }
   ],
   "source": [
    "import pandas as pd \n",
    "hares = pd.read_csv('https://portal.edirepository.org/nis/dataviewer?packageid=knb-lter-bnz.55.22&entityid=f01f5d71be949b8c700b6ecd1c42c701')\n",
    "hares"
   ]
  },
  {
   "cell_type": "code",
   "execution_count": 11,
   "id": "3d0efeda-9ea3-4a25-b4cd-3ffdc9e09f95",
   "metadata": {
    "tags": []
   },
   "outputs": [
    {
     "data": {
      "text/plain": [
       "F     1161\n",
       "M      730\n",
       "f      556\n",
       "m      515\n",
       "?       40\n",
       "F?      10\n",
       "f        4\n",
       "m        4\n",
       "f?       3\n",
       "M?       2\n",
       "m?       2\n",
       "pf       1\n",
       "Name: sex, dtype: int64"
      ]
     },
     "execution_count": 11,
     "metadata": {},
     "output_type": "execute_result"
    }
   ],
   "source": [
    "#the counts of the sex values with NAs included:\n",
    "hares.sex.value_counts()"
   ]
  },
  {
   "cell_type": "code",
   "execution_count": 12,
   "id": "68990ff0-6bc4-41cf-8652-f3107ca04c24",
   "metadata": {
    "tags": []
   },
   "outputs": [
    {
     "data": {
      "text/plain": [
       "F      1161\n",
       "M       730\n",
       "f       556\n",
       "m       515\n",
       "NaN     352\n",
       "?        40\n",
       "F?       10\n",
       "f         4\n",
       "m         4\n",
       "f?        3\n",
       "M?        2\n",
       "m?        2\n",
       "pf        1\n",
       "Name: sex, dtype: int64"
      ]
     },
     "execution_count": 12,
     "metadata": {},
     "output_type": "execute_result"
    }
   ],
   "source": [
    "# What is the purpose of the dropna=False parameter? Do step 2 again, this time adding the dropna=False parameter to value_counts().\n",
    "# It was not including counts of NAs in the initial exploration.\n",
    "\n",
    "hares.sex.value_counts(dropna=False)\n"
   ]
  },
  {
   "cell_type": "code",
   "execution_count": 10,
   "id": "db48e047-5668-42d0-86db-5e31b6fed8ba",
   "metadata": {
    "tags": []
   },
   "outputs": [
    {
     "data": {
      "text/plain": [
       "array([nan, 'M', 'F', '?', 'F?', 'M?', 'pf', 'm', 'f', 'f?', 'm?', 'f ',\n",
       "       'm '], dtype=object)"
      ]
     },
     "execution_count": 10,
     "metadata": {},
     "output_type": "execute_result"
    }
   ],
   "source": [
    "#these are the unique values in the sex column:\n",
    "hares.sex.unique()"
   ]
  },
  {
   "cell_type": "code",
   "execution_count": 23,
   "id": "ff8a5e55-84d0-4efd-b812-bb217b350f47",
   "metadata": {
    "tags": []
   },
   "outputs": [
    {
     "data": {
      "text/plain": [
       "array(['nan', 'male', 'female'], dtype=object)"
      ]
     },
     "execution_count": 23,
     "metadata": {},
     "output_type": "execute_result"
    }
   ],
   "source": [
    "import numpy as np\n",
    "#Removing the extra sex conditions so that they are only female and male\n",
    "conditions = [(hares.sex == 'F') | (hares.sex == 'f') | (hares.sex == 'f '),\n",
    "              (hares.sex == 'M') | (hares.sex == 'm') | (hares.sex == 'm ')]\n",
    "\n",
    "choices = ['female', 'male']\n",
    "\n",
    "hares['sex_simple'] = np.select(conditions, choices, default=np.nan)\n",
    "\n",
    "hares.sex_simple.unique()"
   ]
  },
  {
   "cell_type": "code",
   "execution_count": 22,
   "id": "1438b7d9-889c-4f3c-b3fd-7f03a75934a5",
   "metadata": {
    "tags": []
   },
   "outputs": [
    {
     "data": {
      "text/plain": [
       "sex_simple\n",
       "female    1365.164792\n",
       "male      1349.935542\n",
       "nan       1193.364055\n",
       "Name: weight, dtype: float64"
      ]
     },
     "execution_count": 22,
     "metadata": {},
     "output_type": "execute_result"
    }
   ],
   "source": [
    "#calculating the mean weight for the sex columns\n",
    "hares.groupby(['sex_simple']).weight.mean()"
   ]
  }
 ],
 "metadata": {
  "kernelspec": {
   "display_name": "Anaconda 3 (Base)",
   "language": "python",
   "name": "base"
  },
  "language_info": {
   "codemirror_mode": {
    "name": "ipython",
    "version": 3
   },
   "file_extension": ".py",
   "mimetype": "text/x-python",
   "name": "python",
   "nbconvert_exporter": "python",
   "pygments_lexer": "ipython3",
   "version": "3.9.13"
  }
 },
 "nbformat": 4,
 "nbformat_minor": 5
}
